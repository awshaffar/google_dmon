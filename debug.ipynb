{
 "cells": [
  {
   "cell_type": "code",
   "execution_count": 1,
   "metadata": {},
   "outputs": [
    {
     "name": "stderr",
     "output_type": "stream",
     "text": [
      "2024-05-07 16:51:13.475499: I tensorflow/core/util/port.cc:113] oneDNN custom operations are on. You may see slightly different numerical results due to floating-point round-off errors from different computation orders. To turn them off, set the environment variable `TF_ENABLE_ONEDNN_OPTS=0`.\n",
      "2024-05-07 16:51:13.892114: E external/local_xla/xla/stream_executor/cuda/cuda_dnn.cc:9261] Unable to register cuDNN factory: Attempting to register factory for plugin cuDNN when one has already been registered\n",
      "2024-05-07 16:51:13.892208: E external/local_xla/xla/stream_executor/cuda/cuda_fft.cc:607] Unable to register cuFFT factory: Attempting to register factory for plugin cuFFT when one has already been registered\n",
      "2024-05-07 16:51:13.952903: E external/local_xla/xla/stream_executor/cuda/cuda_blas.cc:1515] Unable to register cuBLAS factory: Attempting to register factory for plugin cuBLAS when one has already been registered\n",
      "2024-05-07 16:51:14.066191: I tensorflow/core/platform/cpu_feature_guard.cc:182] This TensorFlow binary is optimized to use available CPU instructions in performance-critical operations.\n",
      "To enable the following instructions: AVX2 AVX_VNNI FMA, in other operations, rebuild TensorFlow with the appropriate compiler flags.\n",
      "2024-05-07 16:51:14.857105: W tensorflow/compiler/tf2tensorrt/utils/py_utils.cc:38] TF-TRT Warning: Could not find TensorRT\n"
     ]
    }
   ],
   "source": [
    "from graph_embedding.dmon.train import *"
   ]
  },
  {
   "cell_type": "code",
   "execution_count": 10,
   "metadata": {},
   "outputs": [],
   "source": [
    "adjacency, features, labels, label_indices = load_npz('graph_embedding/dmon/data/cora.npz')"
   ]
  },
  {
   "cell_type": "code",
   "execution_count": 20,
   "metadata": {},
   "outputs": [],
   "source": [
    "matrix = adjacency.tocoo()"
   ]
  },
  {
   "cell_type": "code",
   "execution_count": 22,
   "metadata": {},
   "outputs": [
    {
     "data": {
      "text/plain": [
       "array([1, 1, 1, ..., 1, 1, 1])"
      ]
     },
     "execution_count": 22,
     "metadata": {},
     "output_type": "execute_result"
    }
   ],
   "source": [
    "matrix.data"
   ]
  },
  {
   "cell_type": "code",
   "execution_count": 11,
   "metadata": {},
   "outputs": [
    {
     "name": "stderr",
     "output_type": "stream",
     "text": [
      "2024-05-03 11:53:17.855978: I external/local_xla/xla/stream_executor/cuda/cuda_executor.cc:901] successful NUMA node read from SysFS had negative value (-1), but there must be at least one NUMA node, so returning NUMA node zero. See more at https://github.com/torvalds/linux/blob/v6.0/Documentation/ABI/testing/sysfs-bus-pci#L344-L355\n",
      "2024-05-03 11:53:18.092362: I external/local_xla/xla/stream_executor/cuda/cuda_executor.cc:901] successful NUMA node read from SysFS had negative value (-1), but there must be at least one NUMA node, so returning NUMA node zero. See more at https://github.com/torvalds/linux/blob/v6.0/Documentation/ABI/testing/sysfs-bus-pci#L344-L355\n",
      "2024-05-03 11:53:18.093363: I external/local_xla/xla/stream_executor/cuda/cuda_executor.cc:901] successful NUMA node read from SysFS had negative value (-1), but there must be at least one NUMA node, so returning NUMA node zero. See more at https://github.com/torvalds/linux/blob/v6.0/Documentation/ABI/testing/sysfs-bus-pci#L344-L355\n",
      "2024-05-03 11:53:18.098093: I external/local_xla/xla/stream_executor/cuda/cuda_executor.cc:901] successful NUMA node read from SysFS had negative value (-1), but there must be at least one NUMA node, so returning NUMA node zero. See more at https://github.com/torvalds/linux/blob/v6.0/Documentation/ABI/testing/sysfs-bus-pci#L344-L355\n",
      "2024-05-03 11:53:18.098425: I external/local_xla/xla/stream_executor/cuda/cuda_executor.cc:901] successful NUMA node read from SysFS had negative value (-1), but there must be at least one NUMA node, so returning NUMA node zero. See more at https://github.com/torvalds/linux/blob/v6.0/Documentation/ABI/testing/sysfs-bus-pci#L344-L355\n",
      "2024-05-03 11:53:18.098635: I external/local_xla/xla/stream_executor/cuda/cuda_executor.cc:901] successful NUMA node read from SysFS had negative value (-1), but there must be at least one NUMA node, so returning NUMA node zero. See more at https://github.com/torvalds/linux/blob/v6.0/Documentation/ABI/testing/sysfs-bus-pci#L344-L355\n",
      "2024-05-03 11:53:19.399359: I external/local_xla/xla/stream_executor/cuda/cuda_executor.cc:901] successful NUMA node read from SysFS had negative value (-1), but there must be at least one NUMA node, so returning NUMA node zero. See more at https://github.com/torvalds/linux/blob/v6.0/Documentation/ABI/testing/sysfs-bus-pci#L344-L355\n",
      "2024-05-03 11:53:19.399477: I external/local_xla/xla/stream_executor/cuda/cuda_executor.cc:901] successful NUMA node read from SysFS had negative value (-1), but there must be at least one NUMA node, so returning NUMA node zero. See more at https://github.com/torvalds/linux/blob/v6.0/Documentation/ABI/testing/sysfs-bus-pci#L344-L355\n",
      "2024-05-03 11:53:19.399539: I external/local_xla/xla/stream_executor/cuda/cuda_executor.cc:901] successful NUMA node read from SysFS had negative value (-1), but there must be at least one NUMA node, so returning NUMA node zero. See more at https://github.com/torvalds/linux/blob/v6.0/Documentation/ABI/testing/sysfs-bus-pci#L344-L355\n",
      "2024-05-03 11:53:19.401624: I tensorflow/core/common_runtime/gpu/gpu_device.cc:1929] Created device /job:localhost/replica:0/task:0/device:GPU:0 with 9409 MB memory:  -> device: 0, name: NVIDIA GeForce RTX 3060, pci bus id: 0000:01:00.0, compute capability: 8.6\n"
     ]
    }
   ],
   "source": [
    "features = features.todense()\n",
    "n_nodes = adjacency.shape[0]\n",
    "feature_size = features.shape[1]\n",
    "graph = convert_scipy_sparse_to_sparse_tensor(adjacency)"
   ]
  },
  {
   "cell_type": "code",
   "execution_count": 15,
   "metadata": {},
   "outputs": [],
   "source": [
    "graph_normalized = convert_scipy_sparse_to_sparse_tensor(\n",
    "      utils.normalize_graph(adjacency.copy()))"
   ]
  },
  {
   "cell_type": "code",
   "execution_count": 16,
   "metadata": {},
   "outputs": [
    {
     "data": {
      "text/plain": [
       "SparseTensor(indices=tf.Tensor(\n",
       "[[   0    0]\n",
       " [   0  633]\n",
       " [   0 1862]\n",
       " ...\n",
       " [2707 1473]\n",
       " [2707 2706]\n",
       " [2707 2707]], shape=(13264, 2), dtype=int64), values=tf.Tensor([0.25      0.25      0.2236068 ... 0.2       0.2       0.2      ], shape=(13264,), dtype=float32), dense_shape=tf.Tensor([2708 2708], shape=(2,), dtype=int64))"
      ]
     },
     "execution_count": 16,
     "metadata": {},
     "output_type": "execute_result"
    }
   ],
   "source": [
    "graph_normalized"
   ]
  },
  {
   "cell_type": "code",
   "execution_count": 2,
   "metadata": {},
   "outputs": [],
   "source": [
    "import numpy as np\n",
    "import scipy.sparse"
   ]
  },
  {
   "cell_type": "code",
   "execution_count": 10,
   "metadata": {},
   "outputs": [
    {
     "name": "stdout",
     "output_type": "stream",
     "text": [
      "labels\n",
      "label_indices\n",
      "feature_data\n",
      "feature_indices\n",
      "feature_indptr\n",
      "feature_shape\n",
      "adj_data\n",
      "adj_indices\n",
      "adj_indptr\n",
      "adj_shape\n"
     ]
    }
   ],
   "source": [
    "with np.load(open('graph_embedding/dmon/data/cora.npz', 'rb'), allow_pickle=True) as loader:\n",
    "    for key in loader.files:\n",
    "        print(key)\n",
    "        # print(loader[key])"
   ]
  },
  {
   "cell_type": "markdown",
   "metadata": {},
   "source": [
    "These keys correspond to the different components of the graph and its associated data stored in the `cora.npz` file:\n",
    "\n",
    "1. `labels`: This is likely a dense array of labels for the nodes in the graph. Each label could represent a class or category to which a node belongs.\n",
    "\n",
    "2. `label_indices`: This is likely the indices of the nodes that have these labels. It maps each label to the corresponding node in the graph.\n",
    "\n",
    "3. `feature_data`: This is the data for the feature matrix. In the context of a graph, features often represent some attributes or properties of the nodes.\n",
    "\n",
    "4. `feature_indices`: This is the indices where the `feature_data` will be inserted in the feature matrix.\n",
    "\n",
    "5. `feature_indptr`: This is the index pointers for the feature matrix. It is used in conjunction with `feature_indices` to construct the sparse matrix.\n",
    "\n",
    "6. `feature_shape`: This represents the shape of the feature matrix. It's a tuple that indicates the number of rows (nodes) and columns (features) in the feature matrix.\n",
    "\n",
    "7. `adj_data`: This is the data for the adjacency matrix of the graph. In an adjacency matrix, the entry in the ith row and jth column is equal to the number of edges between vertices i and j.\n",
    "\n",
    "8. `adj_indices`: This is the indices where the `adj_data` will be inserted in the adjacency matrix.\n",
    "\n",
    "9. `adj_indptr`: This is the index pointers for the adjacency matrix. It is used in conjunction with `adj_indices` to construct the sparse matrix.\n",
    "\n",
    "10. `adj_shape`: This represents the shape of the adjacency matrix. It's a tuple that indicates the number of rows and columns in the adjacency matrix, which should both be equal to the number of nodes in the graph."
   ]
  },
  {
   "cell_type": "code",
   "execution_count": 12,
   "metadata": {},
   "outputs": [],
   "source": [
    "\n",
    "# Create some arrays\n",
    "arr1 = np.array([1, 2, 3])\n",
    "arr2 = np.array([4, 5, 6])\n",
    "arr3 = np.array([7, 8, 9])\n",
    "\n",
    "# Save the arrays to a .npz file\n",
    "np.savez('arrays.npz', arr1=arr1, arr2=arr2, arr3=arr3)"
   ]
  },
  {
   "cell_type": "code",
   "execution_count": 14,
   "metadata": {},
   "outputs": [
    {
     "name": "stdout",
     "output_type": "stream",
     "text": [
      "['arr1', 'arr2', 'arr3']\n"
     ]
    }
   ],
   "source": [
    "with np.load('arrays.npz') as data:\n",
    "    print(data.files)"
   ]
  },
  {
   "cell_type": "code",
   "execution_count": null,
   "metadata": {},
   "outputs": [],
   "source": []
  },
  {
   "cell_type": "code",
   "execution_count": 15,
   "metadata": {},
   "outputs": [],
   "source": [
    "import numpy as np\n",
    "import scipy.sparse\n",
    "\n",
    "# Create a simple adjacency matrix for a graph with 3 nodes\n",
    "# Nodes 1 and 2 are connected, and nodes 2 and 3 are connected\n",
    "adjacency = scipy.sparse.csr_matrix([[0, 1, 0], [1, 0, 1], [0, 1, 0]])\n",
    "\n",
    "# Create a simple feature matrix where each node has a 2-dimensional feature vector\n",
    "features = scipy.sparse.csr_matrix([[1, 2], [3, 4], [5, 6]])\n",
    "\n",
    "# Create labels for the nodes and the corresponding label indices\n",
    "labels = np.array([0, 1, 0])  # Node 1 and 3 belong to class 0, node 2 belongs to class 1\n",
    "label_indices = np.array([0, 1, 2])  # The labels correspond to nodes 1, 2, and 3\n",
    "\n",
    "# Save the data to a .npz file\n",
    "np.savez('graph.npz', \n",
    "         adj_data=adjacency.data, \n",
    "         adj_indices=adjacency.indices, \n",
    "         adj_indptr=adjacency.indptr, \n",
    "         adj_shape=adjacency.shape,\n",
    "         feature_data=features.data, \n",
    "         feature_indices=features.indices, \n",
    "         feature_indptr=features.indptr, \n",
    "         feature_shape=features.shape,\n",
    "         labels=labels, \n",
    "         label_indices=label_indices)"
   ]
  },
  {
   "cell_type": "code",
   "execution_count": 2,
   "metadata": {},
   "outputs": [
    {
     "data": {
      "image/png": "[encoded data removed]",
      "text/plain": [
       "<Figure size 640x480 with 1 Axes>"
      ]
     },
     "metadata": {},
     "output_type": "display_data"
    }
   ],
   "source": [
    "import numpy as np\n",
    "import networkx as nx\n",
    "import matplotlib.pyplot as plt\n",
    "\n",
    "# Create an adjacency matrix for a graph with 4 nodes\n",
    "# Node 1 is connected to Node 2 and Node 3\n",
    "# Node 2 is connected to Node 3 and Node 4\n",
    "# Node 3 is not connected to Node 4\n",
    "adjacency = np.array([\n",
    "    [0, 1, 1, 0],\n",
    "    [1, 0, 1, 1],\n",
    "    [1, 1, 0, 0],\n",
    "    [0, 1, 0, 0]\n",
    "])\n",
    "\n",
    "# Create a graph from the adjacency matrix\n",
    "G = nx.from_numpy_array(adjacency)\n",
    "\n",
    "# Draw the graph\n",
    "nx.draw(G, with_labels=True)\n",
    "plt.show()"
   ]
  },
  {
   "cell_type": "code",
   "execution_count": 6,
   "metadata": {},
   "outputs": [
    {
     "name": "stdout",
     "output_type": "stream",
     "text": [
      "[1 1 1 1]\n"
     ]
    }
   ],
   "source": [
    "with np.load('graph.npz') as data:\n",
    "    print(data['adj_data'])\n",
    "    # G = nx.from_numpy_array(data['adj_data'])\n",
    "\n",
    "    # # Draw the graph\n",
    "    # nx.draw(G, with_labels=True)\n",
    "    # plt.show()"
   ]
  },
  {
   "cell_type": "code",
   "execution_count": 8,
   "metadata": {},
   "outputs": [
    {
     "data": {
      "image/png": "[encoded data removed]",
      "text/plain": [
       "<Figure size 640x480 with 1 Axes>"
      ]
     },
     "metadata": {},
     "output_type": "display_data"
    }
   ],
   "source": [
    "import numpy as np\n",
    "import networkx as nx\n",
    "import matplotlib.pyplot as plt\n",
    "from scipy.sparse import csr_matrix\n",
    "\n",
    "# Load the data from the .npz file\n",
    "data = np.load('graph.npz')\n",
    "\n",
    "# Create the adjacency matrix from the loaded data\n",
    "adjacency = csr_matrix((data['adj_data'], data['adj_indices'], data['adj_indptr']), shape=data['adj_shape'])\n",
    "\n",
    "# Create a graph from the adjacency matrix\n",
    "G = nx.from_scipy_sparse_array(adjacency)\n",
    "\n",
    "# Draw the graph\n",
    "nx.draw(G, with_labels=True)\n",
    "plt.show()"
   ]
  },
  {
   "cell_type": "code",
   "execution_count": null,
   "metadata": {},
   "outputs": [],
   "source": []
  }
 ],
 "metadata": {
  "kernelspec": {
   "display_name": ".venv",
   "language": "python",
   "name": "python3"
  },
  "language_info": {
   "codemirror_mode": {
    "name": "ipython",
    "version": 3
   },
   "file_extension": ".py",
   "mimetype": "text/x-python",
   "name": "python",
   "nbconvert_exporter": "python",
   "pygments_lexer": "ipython3",
   "version": "3.9.0"
  }
 },
 "nbformat": 4,
 "nbformat_minor": 2
}
